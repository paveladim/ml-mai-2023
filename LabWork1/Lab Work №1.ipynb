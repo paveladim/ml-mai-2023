{
 "cells": [
  {
   "cell_type": "code",
   "execution_count": 317,
   "id": "1f6ba558",
   "metadata": {},
   "outputs": [],
   "source": [
    "import numpy as np\n",
    "from copy import copy"
   ]
  },
  {
   "cell_type": "code",
   "execution_count": 318,
   "id": "02b924c8",
   "metadata": {},
   "outputs": [],
   "source": [
    "def test_function_1(x: np.ndarray) -> float:\n",
    "    '''\n",
    "    Функция Бута\n",
    "    '''\n",
    "    return (x[0] + 2 * x[1] - 7) ** 2 + (2 * x[0] + x[1] - 5) ** 2"
   ]
  },
  {
   "cell_type": "code",
   "execution_count": 319,
   "id": "736692a2",
   "metadata": {},
   "outputs": [],
   "source": [
    "def test_function_2(x: np.ndarray) -> float:\n",
    "    '''\n",
    "    Функция Розенброка\n",
    "    '''\n",
    "    return 100 * (x[1] - x[0] ** 2) ** 2 + (x[0] - 1) ** 2"
   ]
  },
  {
   "cell_type": "code",
   "execution_count": 320,
   "id": "c21a7973",
   "metadata": {},
   "outputs": [],
   "source": [
    "class Domain:\n",
    "    \n",
    "    def __init__(self, left_border: np.ndarray, right_border: np.ndarray):\n",
    "        self.__lb = left_border\n",
    "        self.__rb = right_border\n",
    "        \n",
    "    def is_in_domain(self, x: np.ndarray) -> bool:\n",
    "        statement_1 = x >= self.__lb\n",
    "        statement_2 = x <= self.__rb\n",
    "        \n",
    "        return statement_1.all() and statement_2.all()"
   ]
  },
  {
   "cell_type": "code",
   "execution_count": 350,
   "id": "3ca083b0",
   "metadata": {},
   "outputs": [],
   "source": [
    "class FirstOrderOracle():\n",
    "    \n",
    "    def __init__(self, function, domain: Domain):\n",
    "        self.__func   = function\n",
    "        self.__domain = domain\n",
    "    \n",
    "    def query(self, x: np.ndarray, step: float = 1e-9) -> (float, np.ndarray):\n",
    "        fn: float  = np.inf\n",
    "        drv: np.ndarray = np.zeros(len(x))\n",
    "            \n",
    "        if self.__domain.is_in_domain(x):\n",
    "            fn: float = self.__func(x)\n",
    "            \n",
    "            for i in range(len(x)):\n",
    "                delta = np.zeros(len(x))\n",
    "                delta[i] = step\n",
    "                drv[i] = (self.__func(x + delta) - fn) / step\n",
    "\n",
    "        return fn, drv"
   ]
  },
  {
   "cell_type": "code",
   "execution_count": 351,
   "id": "2ebdcdf6",
   "metadata": {},
   "outputs": [],
   "source": [
    "class GradientDescent():\n",
    "    \n",
    "    def __init__(self, \n",
    "                 oracle: Oracle,\n",
    "                 initial_point: np.ndarray, \n",
    "                 learning_rate: float = 1e-3,\n",
    "                 accuracy: float = 1e-3,\n",
    "                 max_iter: int   = 1e+3):\n",
    "        self.__oracle        = oracle\n",
    "        self.__init_point    = initial_point\n",
    "        self.__lr            = learning_rate\n",
    "        self.__acc           = accuracy\n",
    "    \n",
    "    def step(self, current_point: np.ndarray) -> np.ndarray:\n",
    "        _, drv = self.__oracle.query(current_point)\n",
    "        next_point = current_point - self.__lr * drv\n",
    "        return next_point\n",
    "        \n",
    "    def solve(self):\n",
    "        prev_point = copy(self.__init_point)\n",
    "        next_point = self.step(prev_point)\n",
    "        \n",
    "        while np.linalg.norm(prev_point - next_point) >= self.__acc:\n",
    "            prev_point = next_point\n",
    "            next_point = self.step(prev_point)\n",
    "            \n",
    "        print(next_point)"
   ]
  },
  {
   "cell_type": "code",
   "execution_count": 352,
   "id": "f6b47627",
   "metadata": {},
   "outputs": [],
   "source": [
    "class MomentumGradientDescent():\n",
    "    \n",
    "    def __init__(self, \n",
    "                 oracle: Oracle,\n",
    "                 initial_point: np.ndarray, \n",
    "                 learning_rate: float = 1e-3,\n",
    "                 accuracy: float = 1e-3,\n",
    "                 max_iter: int   = 1e+3):\n",
    "        self.__oracle        = oracle\n",
    "        self.__init_point    = initial_point\n",
    "        self.__lr            = learning_rate\n",
    "        self.__acc           = accuracy"
   ]
  },
  {
   "cell_type": "code",
   "execution_count": 353,
   "id": "caea66ec",
   "metadata": {},
   "outputs": [],
   "source": [
    "class AdaptiveGradientDescent():\n",
    "    \n",
    "    def __init__(self, \n",
    "                 oracle: Oracle,\n",
    "                 initial_point: np.ndarray, \n",
    "                 learning_rate: float = 1e-3,\n",
    "                 accuracy: float = 1e-3,\n",
    "                 max_iter: int   = 1e+3):\n",
    "        self.__oracle        = oracle\n",
    "        self.__init_point    = initial_point\n",
    "        self.__lr            = learning_rate\n",
    "        self.__acc           = accuracy"
   ]
  },
  {
   "cell_type": "code",
   "execution_count": 365,
   "id": "328bc14c",
   "metadata": {},
   "outputs": [],
   "source": [
    "class Pipeline:\n",
    "    \n",
    "    def __init__(self, method):\n",
    "        self.__method = method\n",
    "    \n",
    "    def process(self):\n",
    "        self.__method.solve()"
   ]
  },
  {
   "cell_type": "code",
   "execution_count": 366,
   "id": "c2245a26",
   "metadata": {},
   "outputs": [],
   "source": [
    "lb = np.array([-10, -10])\n",
    "rb = np.array([10, 10])"
   ]
  },
  {
   "cell_type": "code",
   "execution_count": 367,
   "id": "1ad77da9",
   "metadata": {},
   "outputs": [],
   "source": [
    "domain = Domain(lb, rb)"
   ]
  },
  {
   "cell_type": "code",
   "execution_count": 368,
   "id": "bd40685f",
   "metadata": {},
   "outputs": [],
   "source": [
    "oracle = FirstOrderOracle(test_function_1, domain)"
   ]
  },
  {
   "cell_type": "code",
   "execution_count": 369,
   "id": "c2d03e3e",
   "metadata": {},
   "outputs": [],
   "source": [
    "gd = GradientDescent(oracle, np.array([0.5, 0.5]), 1e-4, 1e-11, 2000)"
   ]
  },
  {
   "cell_type": "code",
   "execution_count": 370,
   "id": "622537b5",
   "metadata": {},
   "outputs": [],
   "source": [
    "task1 = Pipeline(gd)"
   ]
  },
  {
   "cell_type": "code",
   "execution_count": 371,
   "id": "3700744b",
   "metadata": {},
   "outputs": [
    {
     "name": "stdout",
     "output_type": "stream",
     "text": [
      "[1.00000004 2.99999996]\n"
     ]
    }
   ],
   "source": [
    "task1.process()"
   ]
  },
  {
   "cell_type": "code",
   "execution_count": null,
   "id": "cd5f4f58",
   "metadata": {},
   "outputs": [],
   "source": []
  }
 ],
 "metadata": {
  "kernelspec": {
   "display_name": "Python 3 (ipykernel)",
   "language": "python",
   "name": "python3"
  },
  "language_info": {
   "codemirror_mode": {
    "name": "ipython",
    "version": 3
   },
   "file_extension": ".py",
   "mimetype": "text/x-python",
   "name": "python",
   "nbconvert_exporter": "python",
   "pygments_lexer": "ipython3",
   "version": "3.10.4"
  }
 },
 "nbformat": 4,
 "nbformat_minor": 5
}
