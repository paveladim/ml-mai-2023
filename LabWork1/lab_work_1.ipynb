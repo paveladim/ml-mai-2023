{
 "cells": [
  {
   "cell_type": "code",
   "execution_count": 5,
   "id": "1f6ba558",
   "metadata": {},
   "outputs": [],
   "source": [
    "import numpy as np\n",
    "from copy import copy\n",
    "from typing import Mapping\n",
    "from typing import Callable\n",
    "from matplotlib import pyplot as plt\n",
    "from matplotlib import cm\n",
    "from celluloid import Camera"
   ]
  },
  {
   "cell_type": "code",
   "execution_count": 6,
   "id": "02b924c8",
   "metadata": {},
   "outputs": [],
   "source": [
    "def test_function_1(x: np.ndarray) -> float:\n",
    "    '''\n",
    "    Функция Бута\n",
    "    '''\n",
    "    return (x[0] + 2 * x[1] - 7) ** 2 + (2 * x[0] + x[1] - 5) ** 2"
   ]
  },
  {
   "cell_type": "code",
   "execution_count": 7,
   "id": "736692a2",
   "metadata": {},
   "outputs": [],
   "source": [
    "def test_function_2(x: np.ndarray) -> float:\n",
    "    '''\n",
    "    Функция Розенброка\n",
    "    '''\n",
    "    return 100 * (x[1] - x[0] ** 2) ** 2 + (x[0] - 1) ** 2"
   ]
  },
  {
   "cell_type": "code",
   "execution_count": 8,
   "id": "6a2caed5",
   "metadata": {},
   "outputs": [],
   "source": [
    "def tf1_draw(x, y):\n",
    "    return (x + 2 * y - 7) ** 2 + (2 * x + y - 5) ** 2"
   ]
  },
  {
   "cell_type": "code",
   "execution_count": 9,
   "id": "74d58fd3",
   "metadata": {},
   "outputs": [],
   "source": [
    "def tf2_draw(x, y):\n",
    "    return 100 * (y - x ** 2) ** 2 + (x - 1) ** 2"
   ]
  },
  {
   "cell_type": "code",
   "execution_count": 10,
   "id": "5375635d",
   "metadata": {},
   "outputs": [],
   "source": [
    "BoothFunction: Mapping[str, Callable] = {\n",
    "    'request'  : test_function_1,\n",
    "    'draw'     : tf1_draw,\n",
    "    'solution' : lambda: np.array([1, 3])\n",
    "}\n",
    "\n",
    "RosenbrokFunction: Mapping[str, Callable] = {\n",
    "    'request'  : test_function_2,\n",
    "    'draw'     : tf2_draw,\n",
    "    'solution' : lambda: np.array([1, 1])\n",
    "}"
   ]
  },
  {
   "cell_type": "code",
   "execution_count": 11,
   "id": "c21a7973",
   "metadata": {},
   "outputs": [],
   "source": [
    "class Domain:\n",
    "    \n",
    "    def __init__(self, left_border: np.ndarray, right_border: np.ndarray):\n",
    "        self.__lb = left_border\n",
    "        self.__rb = right_border\n",
    "        \n",
    "    def is_in_domain(self, x: np.ndarray) -> bool:\n",
    "        statement_1 = x >= self.__lb\n",
    "        statement_2 = x <= self.__rb\n",
    "        \n",
    "        return statement_1.all() and statement_2.all()\n",
    "\n",
    "    def get_left_bounds(self):\n",
    "        return self.__lb\n",
    "\n",
    "    def get_right_bounds(self):\n",
    "        return self.__rb"
   ]
  },
  {
   "cell_type": "code",
   "execution_count": 12,
   "id": "fd3c76fb",
   "metadata": {},
   "outputs": [],
   "source": [
    "class Plot:\n",
    "    def __init__(self, \n",
    "                 function: Mapping[str, Callable], \n",
    "                 domain: Domain):\n",
    "        self.__function   = function\n",
    "        self.__domain     = domain\n",
    "\n",
    "    def render(self):\n",
    "        fig, ax = plt.subplots(subplot_kw={\"projection\": \"3d\"})\n",
    "        lb = self.__domain.get_left_bounds()\n",
    "        rb = self.__domain.get_right_bounds()\n",
    "        x = np.linspace(lb[0], rb[0])\n",
    "        y = np.linspace(lb[1], rb[1])\n",
    "        xg, yg = np.meshgrid(x, y)\n",
    "        z = self.__function['draw'](xg, yg)\n",
    "        surf = ax.plot_surface(xg, yg, z, cmap = cm.plasma, linewidth = 0, antialiased = False)\n",
    "        fig.colorbar(surf, shrink=0.5, aspect=5)\n",
    "        plt.show()"
   ]
  },
  {
   "cell_type": "code",
   "execution_count": 13,
   "id": "1f51f8db",
   "metadata": {},
   "outputs": [
    {
     "ename": "NameError",
     "evalue": "name 'domain' is not defined",
     "output_type": "error",
     "traceback": [
      "\u001b[1;31m---------------------------------------------------------------------------\u001b[0m",
      "\u001b[1;31mNameError\u001b[0m                                 Traceback (most recent call last)",
      "\u001b[1;32mc:\\Users\\pavel\\Documents\\private\\mai\\ml-mai-2023\\LabWork1\\Lab Work №1.ipynb Cell 9\u001b[0m in \u001b[0;36m<cell line: 1>\u001b[1;34m()\u001b[0m\n\u001b[1;32m----> <a href='vscode-notebook-cell:/c%3A/Users/pavel/Documents/private/mai/ml-mai-2023/LabWork1/Lab%20Work%20%E2%84%961.ipynb#X36sZmlsZQ%3D%3D?line=0'>1</a>\u001b[0m p \u001b[39m=\u001b[39m Plot(BoothFunction, domain)\n\u001b[0;32m      <a href='vscode-notebook-cell:/c%3A/Users/pavel/Documents/private/mai/ml-mai-2023/LabWork1/Lab%20Work%20%E2%84%961.ipynb#X36sZmlsZQ%3D%3D?line=1'>2</a>\u001b[0m p\u001b[39m.\u001b[39mrender()\n",
      "\u001b[1;31mNameError\u001b[0m: name 'domain' is not defined"
     ]
    }
   ],
   "source": [
    "p = Plot(BoothFunction, domain)\n",
    "p.render()"
   ]
  },
  {
   "cell_type": "code",
   "execution_count": 14,
   "id": "5c7daa78",
   "metadata": {},
   "outputs": [
    {
     "ename": "NameError",
     "evalue": "name 'domain' is not defined",
     "output_type": "error",
     "traceback": [
      "\u001b[1;31m---------------------------------------------------------------------------\u001b[0m",
      "\u001b[1;31mNameError\u001b[0m                                 Traceback (most recent call last)",
      "\u001b[1;32mc:\\Users\\pavel\\Documents\\private\\mai\\ml-mai-2023\\LabWork1\\Lab Work №1.ipynb Cell 10\u001b[0m in \u001b[0;36m<cell line: 1>\u001b[1;34m()\u001b[0m\n\u001b[1;32m----> <a href='vscode-notebook-cell:/c%3A/Users/pavel/Documents/private/mai/ml-mai-2023/LabWork1/Lab%20Work%20%E2%84%961.ipynb#X45sZmlsZQ%3D%3D?line=0'>1</a>\u001b[0m p \u001b[39m=\u001b[39m Plot(RosenbrokFunction, domain)\n\u001b[0;32m      <a href='vscode-notebook-cell:/c%3A/Users/pavel/Documents/private/mai/ml-mai-2023/LabWork1/Lab%20Work%20%E2%84%961.ipynb#X45sZmlsZQ%3D%3D?line=1'>2</a>\u001b[0m p\u001b[39m.\u001b[39mrender()\n",
      "\u001b[1;31mNameError\u001b[0m: name 'domain' is not defined"
     ]
    }
   ],
   "source": [
    "p = Plot(RosenbrokFunction, domain)\n",
    "p.render()"
   ]
  },
  {
   "cell_type": "code",
   "execution_count": 15,
   "id": "3ca083b0",
   "metadata": {},
   "outputs": [],
   "source": [
    "class FirstOrderOracle():\n",
    "    \n",
    "    def __init__(self, function: Mapping[str, Callable], domain: Domain):\n",
    "        self.__func   = function\n",
    "        self.__domain = domain\n",
    "    \n",
    "    def query(self, x: np.ndarray, step: float = 1e-9) -> (float, np.ndarray):\n",
    "        fn: float  = np.inf\n",
    "        drv: np.ndarray = np.zeros(len(x))\n",
    "            \n",
    "        if self.__domain.is_in_domain(x):\n",
    "            fn: float = (self.__func['request'])(x)\n",
    "            \n",
    "            for i in range(len(x)):\n",
    "                delta = np.zeros(len(x))\n",
    "                delta[i] = step\n",
    "                drv[i] = (self.__func['request'](x + delta) - fn) / step\n",
    "\n",
    "        return fn, drv\n",
    "\n",
    "    def solution(self):\n",
    "        return self.__func['solution'](), self.__func['request'](self.__func['solution']())"
   ]
  },
  {
   "cell_type": "code",
   "execution_count": 16,
   "id": "2ebdcdf6",
   "metadata": {},
   "outputs": [],
   "source": [
    "class GradientDescent():\n",
    "    \n",
    "    def __init__(self, \n",
    "                 oracle,\n",
    "                 initial_point: np.ndarray, \n",
    "                 learning_rate: float = 1e-3,\n",
    "                 accuracy: float = 1e-3,\n",
    "                 max_iter: int   = 1e+3):\n",
    "        self.__oracle        = oracle\n",
    "        self.__init_point    = initial_point\n",
    "        self.__lr            = learning_rate\n",
    "        self.__acc           = accuracy\n",
    "        self.__max_iter      = max_iter\n",
    "        self.__found_p       = np.zeros(len(initial_point))\n",
    "        self.__fount_fn      = 0.0\n",
    "    \n",
    "    def step(self, current_point: np.ndarray) -> np.ndarray:\n",
    "        _, drv = self.__oracle.query(current_point)\n",
    "        next_point = current_point - self.__lr * drv\n",
    "        return next_point\n",
    "        \n",
    "    def solve(self):\n",
    "        traj = []\n",
    "        prev_point = copy(self.__init_point)\n",
    "        next_point = self.step(prev_point)\n",
    "        counter = 0\n",
    "        \n",
    "        traj.append(self.__init_point)\n",
    "        traj.append(next_point)\n",
    "        while np.linalg.norm(prev_point - next_point) >= self.__acc and counter < self.__max_iter:\n",
    "            prev_point = next_point\n",
    "            next_point = self.step(prev_point)\n",
    "            traj.append(next_point)\n",
    "            counter += 1\n",
    "            \n",
    "        self.__found_p  = next_point\n",
    "        self.__found_fn = self.__oracle.query(next_point)[0]\n",
    "        self.__trajectory = np.array(traj)\n",
    "    \n",
    "    def get_numeric_solution(self):\n",
    "        return self.__found_p, self.__found_fn\n",
    "\n",
    "    def get_true_solution(self):\n",
    "        return self.__oracle.solution()\n",
    "\n",
    "    def get_trajectory(self):\n",
    "        return self.__trajectory"
   ]
  },
  {
   "cell_type": "code",
   "execution_count": 17,
   "id": "f6b47627",
   "metadata": {},
   "outputs": [],
   "source": [
    "class MomentumGradientDescent():\n",
    "    \n",
    "    def __init__(self, \n",
    "                 oracle,\n",
    "                 initial_point: np.ndarray, \n",
    "                 learning_rate: float = 1e-3,\n",
    "                 accuracy: float = 1e-3,\n",
    "                 max_iter: int   = 1e+3):\n",
    "        self.__oracle        = oracle\n",
    "        self.__init_point    = initial_point\n",
    "        self.__lr            = learning_rate\n",
    "        self.__acc           = accuracy\n",
    "        self.__max_iter      = max_iter\n",
    "        self.__beta          = np.random.uniform(-0.25, 0.25)\n",
    "        self.__direction     = 0.0\n",
    "        \n",
    "    def step(self, current_point: np.ndarray) -> np.ndarray:\n",
    "        _, drv = self.__oracle.query(current_point)\n",
    "        self.__direction = self.__beta * self.__direction - self.__lr * drv\n",
    "        next_point = current_point + self.__direction\n",
    "        return next_point\n",
    "        \n",
    "    def solve(self):\n",
    "        traj = []\n",
    "        prev_point = copy(self.__init_point)\n",
    "        next_point = self.step(prev_point)\n",
    "        counter = 0\n",
    "        \n",
    "        traj.append(self.__init_point)\n",
    "        traj.append(next_point)\n",
    "        while np.linalg.norm(prev_point - next_point) >= self.__acc and counter < self.__max_iter:\n",
    "            prev_point = next_point\n",
    "            next_point = self.step(prev_point)\n",
    "            traj.append(next_point)\n",
    "            counter += 1\n",
    "            \n",
    "        self.__found_p  = next_point\n",
    "        self.__found_fn = self.__oracle.query(next_point)[0]\n",
    "        self.__trajectory = np.array(traj)\n",
    "\n",
    "    def get_numeric_solution(self):\n",
    "        return self.__found_p, self.__found_fn\n",
    "\n",
    "    def get_true_solution(self):\n",
    "        return self.__oracle.solution()\n",
    "\n",
    "    def get_trajectory(self):\n",
    "        return self.__trajectory"
   ]
  },
  {
   "cell_type": "code",
   "execution_count": 18,
   "id": "caea66ec",
   "metadata": {},
   "outputs": [],
   "source": [
    "class AdaptiveGradientDescent():\n",
    "    \n",
    "    def __init__(self, \n",
    "                 oracle,\n",
    "                 initial_point: np.ndarray,\n",
    "                 learning_rate: float = 1e-3,\n",
    "                 accuracy: float = 1e-3,\n",
    "                 max_iter: int   = 1e+3,\n",
    "                 realibility: float = 1e-8):\n",
    "        self.__oracle        = oracle\n",
    "        self.__init_point    = initial_point\n",
    "        self.__lr            = learning_rate\n",
    "        self.__acc           = accuracy\n",
    "        self.__max_iter      = max_iter\n",
    "        self.__realibility   = np.ones(len(initial_point)) * realibility\n",
    "        self.__G             = np.zeros(len(initial_point))\n",
    "        \n",
    "    def step(self, current_point: np.ndarray) -> np.ndarray:\n",
    "        _, drv = self.__oracle.query(current_point)\n",
    "        self.__G += drv ** 2\n",
    "        next_point = current_point - self.__lr * drv / (np.sqrt(self.__G + self.__realibility))\n",
    "        \n",
    "        return next_point\n",
    "        \n",
    "    def solve(self):\n",
    "        traj = []\n",
    "        prev_point = copy(self.__init_point)\n",
    "        next_point = self.step(prev_point)\n",
    "        counter = 0\n",
    "        \n",
    "        traj.append(self.__init_point)\n",
    "        traj.append(next_point)\n",
    "        while np.linalg.norm(prev_point - next_point) >= self.__acc and counter < self.__max_iter:\n",
    "            prev_point = next_point\n",
    "            next_point = self.step(prev_point)\n",
    "            traj.append(next_point)\n",
    "            counter += 1\n",
    "            \n",
    "        self.__found_p  = next_point\n",
    "        self.__found_fn = self.__oracle.query(next_point)[0]\n",
    "        self.__trajectory = np.array(traj)\n",
    "\n",
    "    def get_numeric_solution(self):\n",
    "        return self.__found_p, self.__found_fn\n",
    "\n",
    "    def get_true_solution(self):\n",
    "        return self.__oracle.solution()\n",
    "    \n",
    "    def get_trajectory(self):\n",
    "        return self.__trajectory"
   ]
  },
  {
   "cell_type": "code",
   "execution_count": 19,
   "id": "328bc14c",
   "metadata": {},
   "outputs": [],
   "source": [
    "class Pipeline:\n",
    "    \n",
    "    def __init__(self, method):\n",
    "        self.__method = method\n",
    "\n",
    "    def plot_residual(self, tpoint: np.ndarray):\n",
    "        trajectory = self.__method.get_trajectory()\n",
    "        residual = np.zeros(len(trajectory))\n",
    "        for i in range(len(trajectory)):\n",
    "            residual[i] = np.linalg.norm(trajectory[i] - tpoint)\n",
    "\n",
    "        print('Residual between numeric and true solutions is ', residual[-1])\n",
    "        plt.plot(range(len(residual)), residual)\n",
    "        plt.show()\n",
    "\n",
    "    def plot_trajectory(self, tpoint: np.ndarray):\n",
    "        trajectory = self.__method.get_trajectory()\n",
    "        fig = plt.figure(figsize=(10,6))\n",
    "        camera = Camera(fig)\n",
    "        plt.title('Optimization Visualization')\n",
    "\n",
    "        for i in range(len(trajectory)):\n",
    "            plt.legend(['Solution point', 'Trajectory points'])\n",
    "            plt.scatter(tpoint[0], tpoint[1], color = 'crimson', s = 100)\n",
    "            plt.scatter(trajectory[i][0], trajectory[i][1], c = 'plum', edgecolors = 'lawngreen', s = 100)\n",
    "\n",
    "            camera.snap()\n",
    "\n",
    "        animation = camera.animate()  \n",
    "        animation.save('trajectory.gif', writer = 'Pillow')\n",
    "\n",
    "    def get_answer(self):\n",
    "        point, value = self.__method.get_numeric_solution()\n",
    "        tpoint, tvalue = self.__method.get_true_solution()\n",
    "        print('Numeric solution was found in point ', point, ' with value ', value)\n",
    "        print('True solution was found in point ', tpoint, ' with value ', tvalue)\n",
    "        self.plot_residual(tpoint)\n",
    "        self.plot_trajectory(tpoint)\n",
    "    \n",
    "    def process(self):\n",
    "        self.__method.solve()\n",
    "        self.get_answer()\n",
    "        "
   ]
  },
  {
   "cell_type": "code",
   "execution_count": 20,
   "id": "c2245a26",
   "metadata": {},
   "outputs": [],
   "source": [
    "lb = np.array([-10, -10])\n",
    "rb = np.array([10, 10])"
   ]
  },
  {
   "cell_type": "code",
   "execution_count": 21,
   "id": "1ad77da9",
   "metadata": {},
   "outputs": [],
   "source": [
    "domain = Domain(lb, rb)"
   ]
  },
  {
   "cell_type": "code",
   "execution_count": 22,
   "id": "bd40685f",
   "metadata": {},
   "outputs": [],
   "source": [
    "oracle = FirstOrderOracle(BoothFunction, domain)"
   ]
  },
  {
   "cell_type": "code",
   "execution_count": 23,
   "id": "c2d03e3e",
   "metadata": {},
   "outputs": [],
   "source": [
    "gd = GradientDescent(oracle, np.array([0.9, 3.1]), 1e-3, 1e-9, 10000)"
   ]
  },
  {
   "cell_type": "code",
   "execution_count": 24,
   "id": "622537b5",
   "metadata": {},
   "outputs": [],
   "source": [
    "task1 = Pipeline(gd)"
   ]
  },
  {
   "cell_type": "code",
   "execution_count": 25,
   "id": "3700744b",
   "metadata": {},
   "outputs": [
    {
     "name": "stdout",
     "output_type": "stream",
     "text": [
      "Numeric solution was found in point  [0.99999965 3.00000035]  with value  2.4805157718763664e-13\n",
      "True solution was found in point  [1 3]  with value  0\n",
      "[0.9 3.1]\n"
     ]
    },
    {
     "name": "stderr",
     "output_type": "stream",
     "text": [
      "MovieWriter Pillow unavailable; using Pillow instead.\n"
     ]
    },
    {
     "ename": "KeyboardInterrupt",
     "evalue": "",
     "output_type": "error",
     "traceback": [
      "\u001b[1;31m---------------------------------------------------------------------------\u001b[0m",
      "\u001b[1;31mKeyboardInterrupt\u001b[0m                         Traceback (most recent call last)",
      "\u001b[1;32mc:\\Users\\pavel\\Documents\\private\\mai\\ml-mai-2023\\LabWork1\\Lab Work №1.ipynb Cell 21\u001b[0m in \u001b[0;36m<cell line: 1>\u001b[1;34m()\u001b[0m\n\u001b[1;32m----> <a href='vscode-notebook-cell:/c%3A/Users/pavel/Documents/private/mai/ml-mai-2023/LabWork1/Lab%20Work%20%E2%84%961.ipynb#X20sZmlsZQ%3D%3D?line=0'>1</a>\u001b[0m task1\u001b[39m.\u001b[39;49mprocess()\n",
      "\u001b[1;32mc:\\Users\\pavel\\Documents\\private\\mai\\ml-mai-2023\\LabWork1\\Lab Work №1.ipynb Cell 21\u001b[0m in \u001b[0;36mPipeline.process\u001b[1;34m(self)\u001b[0m\n\u001b[0;32m     <a href='vscode-notebook-cell:/c%3A/Users/pavel/Documents/private/mai/ml-mai-2023/LabWork1/Lab%20Work%20%E2%84%961.ipynb#X20sZmlsZQ%3D%3D?line=39'>40</a>\u001b[0m \u001b[39mdef\u001b[39;00m \u001b[39mprocess\u001b[39m(\u001b[39mself\u001b[39m):\n\u001b[0;32m     <a href='vscode-notebook-cell:/c%3A/Users/pavel/Documents/private/mai/ml-mai-2023/LabWork1/Lab%20Work%20%E2%84%961.ipynb#X20sZmlsZQ%3D%3D?line=40'>41</a>\u001b[0m     \u001b[39mself\u001b[39m\u001b[39m.\u001b[39m__method\u001b[39m.\u001b[39msolve()\n\u001b[1;32m---> <a href='vscode-notebook-cell:/c%3A/Users/pavel/Documents/private/mai/ml-mai-2023/LabWork1/Lab%20Work%20%E2%84%961.ipynb#X20sZmlsZQ%3D%3D?line=41'>42</a>\u001b[0m     \u001b[39mself\u001b[39;49m\u001b[39m.\u001b[39;49mget_answer()\n",
      "\u001b[1;32mc:\\Users\\pavel\\Documents\\private\\mai\\ml-mai-2023\\LabWork1\\Lab Work №1.ipynb Cell 21\u001b[0m in \u001b[0;36mPipeline.get_answer\u001b[1;34m(self)\u001b[0m\n\u001b[0;32m     <a href='vscode-notebook-cell:/c%3A/Users/pavel/Documents/private/mai/ml-mai-2023/LabWork1/Lab%20Work%20%E2%84%961.ipynb#X20sZmlsZQ%3D%3D?line=35'>36</a>\u001b[0m \u001b[39mprint\u001b[39m(\u001b[39m'\u001b[39m\u001b[39mTrue solution was found in point \u001b[39m\u001b[39m'\u001b[39m, tpoint, \u001b[39m'\u001b[39m\u001b[39m with value \u001b[39m\u001b[39m'\u001b[39m, tvalue)\n\u001b[0;32m     <a href='vscode-notebook-cell:/c%3A/Users/pavel/Documents/private/mai/ml-mai-2023/LabWork1/Lab%20Work%20%E2%84%961.ipynb#X20sZmlsZQ%3D%3D?line=36'>37</a>\u001b[0m \u001b[39m#self.plot_residual(tpoint)\u001b[39;00m\n\u001b[1;32m---> <a href='vscode-notebook-cell:/c%3A/Users/pavel/Documents/private/mai/ml-mai-2023/LabWork1/Lab%20Work%20%E2%84%961.ipynb#X20sZmlsZQ%3D%3D?line=37'>38</a>\u001b[0m \u001b[39mself\u001b[39;49m\u001b[39m.\u001b[39;49mplot_trajectory(tpoint)\n",
      "\u001b[1;32mc:\\Users\\pavel\\Documents\\private\\mai\\ml-mai-2023\\LabWork1\\Lab Work №1.ipynb Cell 21\u001b[0m in \u001b[0;36mPipeline.plot_trajectory\u001b[1;34m(self, tpoint)\u001b[0m\n\u001b[0;32m     <a href='vscode-notebook-cell:/c%3A/Users/pavel/Documents/private/mai/ml-mai-2023/LabWork1/Lab%20Work%20%E2%84%961.ipynb#X20sZmlsZQ%3D%3D?line=26'>27</a>\u001b[0m     camera\u001b[39m.\u001b[39msnap()\n\u001b[0;32m     <a href='vscode-notebook-cell:/c%3A/Users/pavel/Documents/private/mai/ml-mai-2023/LabWork1/Lab%20Work%20%E2%84%961.ipynb#X20sZmlsZQ%3D%3D?line=28'>29</a>\u001b[0m animation \u001b[39m=\u001b[39m camera\u001b[39m.\u001b[39manimate()  \n\u001b[1;32m---> <a href='vscode-notebook-cell:/c%3A/Users/pavel/Documents/private/mai/ml-mai-2023/LabWork1/Lab%20Work%20%E2%84%961.ipynb#X20sZmlsZQ%3D%3D?line=29'>30</a>\u001b[0m animation\u001b[39m.\u001b[39;49msave(\u001b[39m'\u001b[39;49m\u001b[39mtrajectory.gif\u001b[39;49m\u001b[39m'\u001b[39;49m, writer \u001b[39m=\u001b[39;49m \u001b[39m'\u001b[39;49m\u001b[39mPillow\u001b[39;49m\u001b[39m'\u001b[39;49m)\n",
      "File \u001b[1;32mc:\\Users\\pavel\\AppData\\Local\\Programs\\Python\\Python310\\lib\\site-packages\\matplotlib\\animation.py:1095\u001b[0m, in \u001b[0;36mAnimation.save\u001b[1;34m(self, filename, writer, fps, dpi, codec, bitrate, extra_args, metadata, extra_anim, savefig_kwargs, progress_callback)\u001b[0m\n\u001b[0;32m   1093\u001b[0m         progress_callback(frame_number, total_frames)\n\u001b[0;32m   1094\u001b[0m         frame_number \u001b[39m+\u001b[39m\u001b[39m=\u001b[39m \u001b[39m1\u001b[39m\n\u001b[1;32m-> 1095\u001b[0m writer\u001b[39m.\u001b[39mgrab_frame(\u001b[39m*\u001b[39m\u001b[39m*\u001b[39msavefig_kwargs)\n",
      "File \u001b[1;32mc:\\Users\\pavel\\AppData\\Local\\Programs\\Python\\Python310\\lib\\site-packages\\matplotlib\\animation.py:508\u001b[0m, in \u001b[0;36mPillowWriter.grab_frame\u001b[1;34m(self, **savefig_kwargs)\u001b[0m\n\u001b[0;32m    506\u001b[0m \u001b[39mdef\u001b[39;00m \u001b[39mgrab_frame\u001b[39m(\u001b[39mself\u001b[39m, \u001b[39m*\u001b[39m\u001b[39m*\u001b[39msavefig_kwargs):\n\u001b[0;32m    507\u001b[0m     buf \u001b[39m=\u001b[39m BytesIO()\n\u001b[1;32m--> 508\u001b[0m     \u001b[39mself\u001b[39m\u001b[39m.\u001b[39mfig\u001b[39m.\u001b[39msavefig(\n\u001b[0;32m    509\u001b[0m         buf, \u001b[39m*\u001b[39m\u001b[39m*\u001b[39m{\u001b[39m*\u001b[39m\u001b[39m*\u001b[39msavefig_kwargs, \u001b[39m\"\u001b[39m\u001b[39mformat\u001b[39m\u001b[39m\"\u001b[39m: \u001b[39m\"\u001b[39m\u001b[39mrgba\u001b[39m\u001b[39m\"\u001b[39m, \u001b[39m\"\u001b[39m\u001b[39mdpi\u001b[39m\u001b[39m\"\u001b[39m: \u001b[39mself\u001b[39m\u001b[39m.\u001b[39mdpi})\n\u001b[0;32m    510\u001b[0m     \u001b[39mself\u001b[39m\u001b[39m.\u001b[39m_frames\u001b[39m.\u001b[39mappend(Image\u001b[39m.\u001b[39mfrombuffer(\n\u001b[0;32m    511\u001b[0m         \u001b[39m\"\u001b[39m\u001b[39mRGBA\u001b[39m\u001b[39m\"\u001b[39m, \u001b[39mself\u001b[39m\u001b[39m.\u001b[39mframe_size, buf\u001b[39m.\u001b[39mgetbuffer(), \u001b[39m\"\u001b[39m\u001b[39mraw\u001b[39m\u001b[39m\"\u001b[39m, \u001b[39m\"\u001b[39m\u001b[39mRGBA\u001b[39m\u001b[39m\"\u001b[39m, \u001b[39m0\u001b[39m, \u001b[39m1\u001b[39m))\n",
      "File \u001b[1;32mc:\\Users\\pavel\\AppData\\Local\\Programs\\Python\\Python310\\lib\\site-packages\\matplotlib\\figure.py:3019\u001b[0m, in \u001b[0;36mFigure.savefig\u001b[1;34m(self, fname, transparent, **kwargs)\u001b[0m\n\u001b[0;32m   3015\u001b[0m     \u001b[39mfor\u001b[39;00m ax \u001b[39min\u001b[39;00m \u001b[39mself\u001b[39m\u001b[39m.\u001b[39maxes:\n\u001b[0;32m   3016\u001b[0m         stack\u001b[39m.\u001b[39menter_context(\n\u001b[0;32m   3017\u001b[0m             ax\u001b[39m.\u001b[39mpatch\u001b[39m.\u001b[39m_cm_set(facecolor\u001b[39m=\u001b[39m\u001b[39m'\u001b[39m\u001b[39mnone\u001b[39m\u001b[39m'\u001b[39m, edgecolor\u001b[39m=\u001b[39m\u001b[39m'\u001b[39m\u001b[39mnone\u001b[39m\u001b[39m'\u001b[39m))\n\u001b[1;32m-> 3019\u001b[0m \u001b[39mself\u001b[39m\u001b[39m.\u001b[39mcanvas\u001b[39m.\u001b[39mprint_figure(fname, \u001b[39m*\u001b[39m\u001b[39m*\u001b[39mkwargs)\n",
      "File \u001b[1;32mc:\\Users\\pavel\\AppData\\Local\\Programs\\Python\\Python310\\lib\\site-packages\\matplotlib\\backend_bases.py:2319\u001b[0m, in \u001b[0;36mFigureCanvasBase.print_figure\u001b[1;34m(self, filename, dpi, facecolor, edgecolor, orientation, format, bbox_inches, pad_inches, bbox_extra_artists, backend, **kwargs)\u001b[0m\n\u001b[0;32m   2315\u001b[0m \u001b[39mtry\u001b[39;00m:\n\u001b[0;32m   2316\u001b[0m     \u001b[39m# _get_renderer may change the figure dpi (as vector formats\u001b[39;00m\n\u001b[0;32m   2317\u001b[0m     \u001b[39m# force the figure dpi to 72), so we need to set it again here.\u001b[39;00m\n\u001b[0;32m   2318\u001b[0m     \u001b[39mwith\u001b[39;00m cbook\u001b[39m.\u001b[39m_setattr_cm(\u001b[39mself\u001b[39m\u001b[39m.\u001b[39mfigure, dpi\u001b[39m=\u001b[39mdpi):\n\u001b[1;32m-> 2319\u001b[0m         result \u001b[39m=\u001b[39m print_method(\n\u001b[0;32m   2320\u001b[0m             filename,\n\u001b[0;32m   2321\u001b[0m             facecolor\u001b[39m=\u001b[39mfacecolor,\n\u001b[0;32m   2322\u001b[0m             edgecolor\u001b[39m=\u001b[39medgecolor,\n\u001b[0;32m   2323\u001b[0m             orientation\u001b[39m=\u001b[39morientation,\n\u001b[0;32m   2324\u001b[0m             bbox_inches_restore\u001b[39m=\u001b[39m_bbox_inches_restore,\n\u001b[0;32m   2325\u001b[0m             \u001b[39m*\u001b[39m\u001b[39m*\u001b[39mkwargs)\n\u001b[0;32m   2326\u001b[0m \u001b[39mfinally\u001b[39;00m:\n\u001b[0;32m   2327\u001b[0m     \u001b[39mif\u001b[39;00m bbox_inches \u001b[39mand\u001b[39;00m restore_bbox:\n",
      "File \u001b[1;32mc:\\Users\\pavel\\AppData\\Local\\Programs\\Python\\Python310\\lib\\site-packages\\matplotlib\\backend_bases.py:1648\u001b[0m, in \u001b[0;36m_check_savefig_extra_args.<locals>.wrapper\u001b[1;34m(*args, **kwargs)\u001b[0m\n\u001b[0;32m   1640\u001b[0m     _api\u001b[39m.\u001b[39mwarn_deprecated(\n\u001b[0;32m   1641\u001b[0m         \u001b[39m'\u001b[39m\u001b[39m3.3\u001b[39m\u001b[39m'\u001b[39m, name\u001b[39m=\u001b[39mname, removal\u001b[39m=\u001b[39m\u001b[39m'\u001b[39m\u001b[39m3.6\u001b[39m\u001b[39m'\u001b[39m,\n\u001b[0;32m   1642\u001b[0m         message\u001b[39m=\u001b[39m\u001b[39m'\u001b[39m\u001b[39m%(name)s\u001b[39;00m\u001b[39m() got unexpected keyword argument \u001b[39m\u001b[39m\"\u001b[39m\u001b[39m'\u001b[39m\n\u001b[0;32m   1643\u001b[0m                 \u001b[39m+\u001b[39m arg \u001b[39m+\u001b[39m \u001b[39m'\u001b[39m\u001b[39m\"\u001b[39m\u001b[39m which is no longer supported as of \u001b[39m\u001b[39m'\u001b[39m\n\u001b[0;32m   1644\u001b[0m                 \u001b[39m'\u001b[39m\u001b[39m%(since)s\u001b[39;00m\u001b[39m and will become an error \u001b[39m\u001b[39m'\u001b[39m\n\u001b[0;32m   1645\u001b[0m                 \u001b[39m'\u001b[39m\u001b[39m%(removal)s\u001b[39;00m\u001b[39m'\u001b[39m)\n\u001b[0;32m   1646\u001b[0m     kwargs\u001b[39m.\u001b[39mpop(arg)\n\u001b[1;32m-> 1648\u001b[0m \u001b[39mreturn\u001b[39;00m func(\u001b[39m*\u001b[39margs, \u001b[39m*\u001b[39m\u001b[39m*\u001b[39mkwargs)\n",
      "File \u001b[1;32mc:\\Users\\pavel\\AppData\\Local\\Programs\\Python\\Python310\\lib\\site-packages\\matplotlib\\_api\\deprecation.py:412\u001b[0m, in \u001b[0;36mdelete_parameter.<locals>.wrapper\u001b[1;34m(*inner_args, **inner_kwargs)\u001b[0m\n\u001b[0;32m    402\u001b[0m     deprecation_addendum \u001b[39m=\u001b[39m (\n\u001b[0;32m    403\u001b[0m         \u001b[39mf\u001b[39m\u001b[39m\"\u001b[39m\u001b[39mIf any parameter follows \u001b[39m\u001b[39m{\u001b[39;00mname\u001b[39m!r}\u001b[39;00m\u001b[39m, they should be passed as \u001b[39m\u001b[39m\"\u001b[39m\n\u001b[0;32m    404\u001b[0m         \u001b[39mf\u001b[39m\u001b[39m\"\u001b[39m\u001b[39mkeyword, not positionally.\u001b[39m\u001b[39m\"\u001b[39m)\n\u001b[0;32m    405\u001b[0m     warn_deprecated(\n\u001b[0;32m    406\u001b[0m         since,\n\u001b[0;32m    407\u001b[0m         name\u001b[39m=\u001b[39m\u001b[39mrepr\u001b[39m(name),\n\u001b[1;32m   (...)\u001b[0m\n\u001b[0;32m    410\u001b[0m                  \u001b[39melse\u001b[39;00m deprecation_addendum,\n\u001b[0;32m    411\u001b[0m         \u001b[39m*\u001b[39m\u001b[39m*\u001b[39mkwargs)\n\u001b[1;32m--> 412\u001b[0m \u001b[39mreturn\u001b[39;00m func(\u001b[39m*\u001b[39minner_args, \u001b[39m*\u001b[39m\u001b[39m*\u001b[39minner_kwargs)\n",
      "File \u001b[1;32mc:\\Users\\pavel\\AppData\\Local\\Programs\\Python\\Python310\\lib\\site-packages\\matplotlib\\backends\\backend_agg.py:483\u001b[0m, in \u001b[0;36mFigureCanvasAgg.print_raw\u001b[1;34m(self, filename_or_obj, *args)\u001b[0m\n\u001b[0;32m    480\u001b[0m \u001b[39m@_check_savefig_extra_args\u001b[39m\n\u001b[0;32m    481\u001b[0m \u001b[39m@_api\u001b[39m\u001b[39m.\u001b[39mdelete_parameter(\u001b[39m\"\u001b[39m\u001b[39m3.5\u001b[39m\u001b[39m\"\u001b[39m, \u001b[39m\"\u001b[39m\u001b[39margs\u001b[39m\u001b[39m\"\u001b[39m)\n\u001b[0;32m    482\u001b[0m \u001b[39mdef\u001b[39;00m \u001b[39mprint_raw\u001b[39m(\u001b[39mself\u001b[39m, filename_or_obj, \u001b[39m*\u001b[39margs):\n\u001b[1;32m--> 483\u001b[0m     FigureCanvasAgg\u001b[39m.\u001b[39;49mdraw(\u001b[39mself\u001b[39;49m)\n\u001b[0;32m    484\u001b[0m     renderer \u001b[39m=\u001b[39m \u001b[39mself\u001b[39m\u001b[39m.\u001b[39mget_renderer()\n\u001b[0;32m    485\u001b[0m     \u001b[39mwith\u001b[39;00m cbook\u001b[39m.\u001b[39mopen_file_cm(filename_or_obj, \u001b[39m\"\u001b[39m\u001b[39mwb\u001b[39m\u001b[39m\"\u001b[39m) \u001b[39mas\u001b[39;00m fh:\n",
      "File \u001b[1;32mc:\\Users\\pavel\\AppData\\Local\\Programs\\Python\\Python310\\lib\\site-packages\\matplotlib\\backends\\backend_agg.py:436\u001b[0m, in \u001b[0;36mFigureCanvasAgg.draw\u001b[1;34m(self)\u001b[0m\n\u001b[0;32m    432\u001b[0m \u001b[39m# Acquire a lock on the shared font cache.\u001b[39;00m\n\u001b[0;32m    433\u001b[0m \u001b[39mwith\u001b[39;00m RendererAgg\u001b[39m.\u001b[39mlock, \\\n\u001b[0;32m    434\u001b[0m      (\u001b[39mself\u001b[39m\u001b[39m.\u001b[39mtoolbar\u001b[39m.\u001b[39m_wait_cursor_for_draw_cm() \u001b[39mif\u001b[39;00m \u001b[39mself\u001b[39m\u001b[39m.\u001b[39mtoolbar\n\u001b[0;32m    435\u001b[0m       \u001b[39melse\u001b[39;00m nullcontext()):\n\u001b[1;32m--> 436\u001b[0m     \u001b[39mself\u001b[39;49m\u001b[39m.\u001b[39;49mfigure\u001b[39m.\u001b[39;49mdraw(\u001b[39mself\u001b[39;49m\u001b[39m.\u001b[39;49mrenderer)\n\u001b[0;32m    437\u001b[0m     \u001b[39m# A GUI class may be need to update a window using this draw, so\u001b[39;00m\n\u001b[0;32m    438\u001b[0m     \u001b[39m# don't forget to call the superclass.\u001b[39;00m\n\u001b[0;32m    439\u001b[0m     \u001b[39msuper\u001b[39m()\u001b[39m.\u001b[39mdraw()\n",
      "File \u001b[1;32mc:\\Users\\pavel\\AppData\\Local\\Programs\\Python\\Python310\\lib\\site-packages\\matplotlib\\artist.py:73\u001b[0m, in \u001b[0;36m_finalize_rasterization.<locals>.draw_wrapper\u001b[1;34m(artist, renderer, *args, **kwargs)\u001b[0m\n\u001b[0;32m     71\u001b[0m \u001b[39m@wraps\u001b[39m(draw)\n\u001b[0;32m     72\u001b[0m \u001b[39mdef\u001b[39;00m \u001b[39mdraw_wrapper\u001b[39m(artist, renderer, \u001b[39m*\u001b[39margs, \u001b[39m*\u001b[39m\u001b[39m*\u001b[39mkwargs):\n\u001b[1;32m---> 73\u001b[0m     result \u001b[39m=\u001b[39m draw(artist, renderer, \u001b[39m*\u001b[39margs, \u001b[39m*\u001b[39m\u001b[39m*\u001b[39mkwargs)\n\u001b[0;32m     74\u001b[0m     \u001b[39mif\u001b[39;00m renderer\u001b[39m.\u001b[39m_rasterizing:\n\u001b[0;32m     75\u001b[0m         renderer\u001b[39m.\u001b[39mstop_rasterizing()\n",
      "File \u001b[1;32mc:\\Users\\pavel\\AppData\\Local\\Programs\\Python\\Python310\\lib\\site-packages\\matplotlib\\artist.py:50\u001b[0m, in \u001b[0;36mallow_rasterization.<locals>.draw_wrapper\u001b[1;34m(artist, renderer)\u001b[0m\n\u001b[0;32m     47\u001b[0m     \u001b[39mif\u001b[39;00m artist\u001b[39m.\u001b[39mget_agg_filter() \u001b[39mis\u001b[39;00m \u001b[39mnot\u001b[39;00m \u001b[39mNone\u001b[39;00m:\n\u001b[0;32m     48\u001b[0m         renderer\u001b[39m.\u001b[39mstart_filter()\n\u001b[1;32m---> 50\u001b[0m     \u001b[39mreturn\u001b[39;00m draw(artist, renderer)\n\u001b[0;32m     51\u001b[0m \u001b[39mfinally\u001b[39;00m:\n\u001b[0;32m     52\u001b[0m     \u001b[39mif\u001b[39;00m artist\u001b[39m.\u001b[39mget_agg_filter() \u001b[39mis\u001b[39;00m \u001b[39mnot\u001b[39;00m \u001b[39mNone\u001b[39;00m:\n",
      "File \u001b[1;32mc:\\Users\\pavel\\AppData\\Local\\Programs\\Python\\Python310\\lib\\site-packages\\matplotlib\\figure.py:2810\u001b[0m, in \u001b[0;36mFigure.draw\u001b[1;34m(self, renderer)\u001b[0m\n\u001b[0;32m   2807\u001b[0m         \u001b[39m# ValueError can occur when resizing a window.\u001b[39;00m\n\u001b[0;32m   2809\u001b[0m \u001b[39mself\u001b[39m\u001b[39m.\u001b[39mpatch\u001b[39m.\u001b[39mdraw(renderer)\n\u001b[1;32m-> 2810\u001b[0m mimage\u001b[39m.\u001b[39;49m_draw_list_compositing_images(\n\u001b[0;32m   2811\u001b[0m     renderer, \u001b[39mself\u001b[39;49m, artists, \u001b[39mself\u001b[39;49m\u001b[39m.\u001b[39;49msuppressComposite)\n\u001b[0;32m   2813\u001b[0m \u001b[39mfor\u001b[39;00m sfig \u001b[39min\u001b[39;00m \u001b[39mself\u001b[39m\u001b[39m.\u001b[39msubfigs:\n\u001b[0;32m   2814\u001b[0m     sfig\u001b[39m.\u001b[39mdraw(renderer)\n",
      "File \u001b[1;32mc:\\Users\\pavel\\AppData\\Local\\Programs\\Python\\Python310\\lib\\site-packages\\matplotlib\\image.py:132\u001b[0m, in \u001b[0;36m_draw_list_compositing_images\u001b[1;34m(renderer, parent, artists, suppress_composite)\u001b[0m\n\u001b[0;32m    130\u001b[0m \u001b[39mif\u001b[39;00m not_composite \u001b[39mor\u001b[39;00m \u001b[39mnot\u001b[39;00m has_images:\n\u001b[0;32m    131\u001b[0m     \u001b[39mfor\u001b[39;00m a \u001b[39min\u001b[39;00m artists:\n\u001b[1;32m--> 132\u001b[0m         a\u001b[39m.\u001b[39;49mdraw(renderer)\n\u001b[0;32m    133\u001b[0m \u001b[39melse\u001b[39;00m:\n\u001b[0;32m    134\u001b[0m     \u001b[39m# Composite any adjacent images together\u001b[39;00m\n\u001b[0;32m    135\u001b[0m     image_group \u001b[39m=\u001b[39m []\n",
      "File \u001b[1;32mc:\\Users\\pavel\\AppData\\Local\\Programs\\Python\\Python310\\lib\\site-packages\\matplotlib\\artist.py:50\u001b[0m, in \u001b[0;36mallow_rasterization.<locals>.draw_wrapper\u001b[1;34m(artist, renderer)\u001b[0m\n\u001b[0;32m     47\u001b[0m     \u001b[39mif\u001b[39;00m artist\u001b[39m.\u001b[39mget_agg_filter() \u001b[39mis\u001b[39;00m \u001b[39mnot\u001b[39;00m \u001b[39mNone\u001b[39;00m:\n\u001b[0;32m     48\u001b[0m         renderer\u001b[39m.\u001b[39mstart_filter()\n\u001b[1;32m---> 50\u001b[0m     \u001b[39mreturn\u001b[39;00m draw(artist, renderer)\n\u001b[0;32m     51\u001b[0m \u001b[39mfinally\u001b[39;00m:\n\u001b[0;32m     52\u001b[0m     \u001b[39mif\u001b[39;00m artist\u001b[39m.\u001b[39mget_agg_filter() \u001b[39mis\u001b[39;00m \u001b[39mnot\u001b[39;00m \u001b[39mNone\u001b[39;00m:\n",
      "File \u001b[1;32mc:\\Users\\pavel\\AppData\\Local\\Programs\\Python\\Python310\\lib\\site-packages\\matplotlib\\axes\\_base.py:3082\u001b[0m, in \u001b[0;36m_AxesBase.draw\u001b[1;34m(self, renderer)\u001b[0m\n\u001b[0;32m   3079\u001b[0m         a\u001b[39m.\u001b[39mdraw(renderer)\n\u001b[0;32m   3080\u001b[0m     renderer\u001b[39m.\u001b[39mstop_rasterizing()\n\u001b[1;32m-> 3082\u001b[0m mimage\u001b[39m.\u001b[39;49m_draw_list_compositing_images(\n\u001b[0;32m   3083\u001b[0m     renderer, \u001b[39mself\u001b[39;49m, artists, \u001b[39mself\u001b[39;49m\u001b[39m.\u001b[39;49mfigure\u001b[39m.\u001b[39;49msuppressComposite)\n\u001b[0;32m   3085\u001b[0m renderer\u001b[39m.\u001b[39mclose_group(\u001b[39m'\u001b[39m\u001b[39maxes\u001b[39m\u001b[39m'\u001b[39m)\n\u001b[0;32m   3086\u001b[0m \u001b[39mself\u001b[39m\u001b[39m.\u001b[39mstale \u001b[39m=\u001b[39m \u001b[39mFalse\u001b[39;00m\n",
      "File \u001b[1;32mc:\\Users\\pavel\\AppData\\Local\\Programs\\Python\\Python310\\lib\\site-packages\\matplotlib\\image.py:132\u001b[0m, in \u001b[0;36m_draw_list_compositing_images\u001b[1;34m(renderer, parent, artists, suppress_composite)\u001b[0m\n\u001b[0;32m    130\u001b[0m \u001b[39mif\u001b[39;00m not_composite \u001b[39mor\u001b[39;00m \u001b[39mnot\u001b[39;00m has_images:\n\u001b[0;32m    131\u001b[0m     \u001b[39mfor\u001b[39;00m a \u001b[39min\u001b[39;00m artists:\n\u001b[1;32m--> 132\u001b[0m         a\u001b[39m.\u001b[39;49mdraw(renderer)\n\u001b[0;32m    133\u001b[0m \u001b[39melse\u001b[39;00m:\n\u001b[0;32m    134\u001b[0m     \u001b[39m# Composite any adjacent images together\u001b[39;00m\n\u001b[0;32m    135\u001b[0m     image_group \u001b[39m=\u001b[39m []\n",
      "File \u001b[1;32mc:\\Users\\pavel\\AppData\\Local\\Programs\\Python\\Python310\\lib\\site-packages\\matplotlib\\artist.py:50\u001b[0m, in \u001b[0;36mallow_rasterization.<locals>.draw_wrapper\u001b[1;34m(artist, renderer)\u001b[0m\n\u001b[0;32m     47\u001b[0m     \u001b[39mif\u001b[39;00m artist\u001b[39m.\u001b[39mget_agg_filter() \u001b[39mis\u001b[39;00m \u001b[39mnot\u001b[39;00m \u001b[39mNone\u001b[39;00m:\n\u001b[0;32m     48\u001b[0m         renderer\u001b[39m.\u001b[39mstart_filter()\n\u001b[1;32m---> 50\u001b[0m     \u001b[39mreturn\u001b[39;00m draw(artist, renderer)\n\u001b[0;32m     51\u001b[0m \u001b[39mfinally\u001b[39;00m:\n\u001b[0;32m     52\u001b[0m     \u001b[39mif\u001b[39;00m artist\u001b[39m.\u001b[39mget_agg_filter() \u001b[39mis\u001b[39;00m \u001b[39mnot\u001b[39;00m \u001b[39mNone\u001b[39;00m:\n",
      "File \u001b[1;32mc:\\Users\\pavel\\AppData\\Local\\Programs\\Python\\Python310\\lib\\site-packages\\matplotlib\\legend.py:628\u001b[0m, in \u001b[0;36mLegend.draw\u001b[1;34m(self, renderer)\u001b[0m\n\u001b[0;32m    625\u001b[0m     Shadow(\u001b[39mself\u001b[39m\u001b[39m.\u001b[39mlegendPatch, \u001b[39m2\u001b[39m, \u001b[39m-\u001b[39m\u001b[39m2\u001b[39m)\u001b[39m.\u001b[39mdraw(renderer)\n\u001b[0;32m    627\u001b[0m \u001b[39mself\u001b[39m\u001b[39m.\u001b[39mlegendPatch\u001b[39m.\u001b[39mdraw(renderer)\n\u001b[1;32m--> 628\u001b[0m \u001b[39mself\u001b[39;49m\u001b[39m.\u001b[39;49m_legend_box\u001b[39m.\u001b[39;49mdraw(renderer)\n\u001b[0;32m    630\u001b[0m renderer\u001b[39m.\u001b[39mclose_group(\u001b[39m'\u001b[39m\u001b[39mlegend\u001b[39m\u001b[39m'\u001b[39m)\n\u001b[0;32m    631\u001b[0m \u001b[39mself\u001b[39m\u001b[39m.\u001b[39mstale \u001b[39m=\u001b[39m \u001b[39mFalse\u001b[39;00m\n",
      "File \u001b[1;32mc:\\Users\\pavel\\AppData\\Local\\Programs\\Python\\Python310\\lib\\site-packages\\matplotlib\\offsetbox.py:362\u001b[0m, in \u001b[0;36mOffsetBox.draw\u001b[1;34m(self, renderer)\u001b[0m\n\u001b[0;32m    355\u001b[0m \u001b[39m\"\"\"\u001b[39;00m\n\u001b[0;32m    356\u001b[0m \u001b[39mUpdate the location of children if necessary and draw them\u001b[39;00m\n\u001b[0;32m    357\u001b[0m \u001b[39mto the given *renderer*.\u001b[39;00m\n\u001b[0;32m    358\u001b[0m \u001b[39m\"\"\"\u001b[39;00m\n\u001b[0;32m    359\u001b[0m width, height, xdescent, ydescent, offsets \u001b[39m=\u001b[39m \u001b[39mself\u001b[39m\u001b[39m.\u001b[39mget_extent_offsets(\n\u001b[0;32m    360\u001b[0m                                                 renderer)\n\u001b[1;32m--> 362\u001b[0m px, py \u001b[39m=\u001b[39m \u001b[39mself\u001b[39;49m\u001b[39m.\u001b[39;49mget_offset(width, height, xdescent, ydescent, renderer)\n\u001b[0;32m    364\u001b[0m \u001b[39mfor\u001b[39;00m c, (ox, oy) \u001b[39min\u001b[39;00m \u001b[39mzip\u001b[39m(\u001b[39mself\u001b[39m\u001b[39m.\u001b[39mget_visible_children(), offsets):\n\u001b[0;32m    365\u001b[0m     c\u001b[39m.\u001b[39mset_offset((px \u001b[39m+\u001b[39m ox, py \u001b[39m+\u001b[39m oy))\n",
      "File \u001b[1;32mc:\\Users\\pavel\\AppData\\Local\\Programs\\Python\\Python310\\lib\\site-packages\\matplotlib\\offsetbox.py:290\u001b[0m, in \u001b[0;36mOffsetBox.get_offset\u001b[1;34m(self, width, height, xdescent, ydescent, renderer)\u001b[0m\n\u001b[0;32m    275\u001b[0m \u001b[39mdef\u001b[39;00m \u001b[39mget_offset\u001b[39m(\u001b[39mself\u001b[39m, width, height, xdescent, ydescent, renderer):\n\u001b[0;32m    276\u001b[0m     \u001b[39m\"\"\"\u001b[39;00m\n\u001b[0;32m    277\u001b[0m \u001b[39m    Return the offset as a tuple (x, y).\u001b[39;00m\n\u001b[0;32m    278\u001b[0m \n\u001b[1;32m   (...)\u001b[0m\n\u001b[0;32m    288\u001b[0m \n\u001b[0;32m    289\u001b[0m \u001b[39m    \"\"\"\u001b[39;00m\n\u001b[1;32m--> 290\u001b[0m     \u001b[39mreturn\u001b[39;00m (\u001b[39mself\u001b[39;49m\u001b[39m.\u001b[39;49m_offset(width, height, xdescent, ydescent, renderer)\n\u001b[0;32m    291\u001b[0m             \u001b[39mif\u001b[39;00m callable(\u001b[39mself\u001b[39m\u001b[39m.\u001b[39m_offset)\n\u001b[0;32m    292\u001b[0m             \u001b[39melse\u001b[39;00m \u001b[39mself\u001b[39m\u001b[39m.\u001b[39m_offset)\n",
      "File \u001b[1;32mc:\\Users\\pavel\\AppData\\Local\\Programs\\Python\\Python310\\lib\\site-packages\\matplotlib\\legend.py:589\u001b[0m, in \u001b[0;36mLegend._findoffset\u001b[1;34m(self, width, height, xdescent, ydescent, renderer)\u001b[0m\n\u001b[0;32m    586\u001b[0m \u001b[39m\"\"\"Helper function to locate the legend.\"\"\"\u001b[39;00m\n\u001b[0;32m    588\u001b[0m \u001b[39mif\u001b[39;00m \u001b[39mself\u001b[39m\u001b[39m.\u001b[39m_loc \u001b[39m==\u001b[39m \u001b[39m0\u001b[39m:  \u001b[39m# \"best\".\u001b[39;00m\n\u001b[1;32m--> 589\u001b[0m     x, y \u001b[39m=\u001b[39m \u001b[39mself\u001b[39;49m\u001b[39m.\u001b[39;49m_find_best_position(width, height, renderer)\n\u001b[0;32m    590\u001b[0m \u001b[39melif\u001b[39;00m \u001b[39mself\u001b[39m\u001b[39m.\u001b[39m_loc \u001b[39min\u001b[39;00m Legend\u001b[39m.\u001b[39mcodes\u001b[39m.\u001b[39mvalues():  \u001b[39m# Fixed location.\u001b[39;00m\n\u001b[0;32m    591\u001b[0m     bbox \u001b[39m=\u001b[39m Bbox\u001b[39m.\u001b[39mfrom_bounds(\u001b[39m0\u001b[39m, \u001b[39m0\u001b[39m, width, height)\n",
      "File \u001b[1;32mc:\\Users\\pavel\\AppData\\Local\\Programs\\Python\\Python310\\lib\\site-packages\\matplotlib\\legend.py:1015\u001b[0m, in \u001b[0;36mLegend._find_best_position\u001b[1;34m(self, width, height, renderer, consider)\u001b[0m\n\u001b[0;32m   1011\u001b[0m \u001b[39massert\u001b[39;00m \u001b[39mself\u001b[39m\u001b[39m.\u001b[39misaxes  \u001b[39m# always holds, as this is only called internally\u001b[39;00m\n\u001b[0;32m   1013\u001b[0m start_time \u001b[39m=\u001b[39m time\u001b[39m.\u001b[39mperf_counter()\n\u001b[1;32m-> 1015\u001b[0m bboxes, lines, offsets \u001b[39m=\u001b[39m \u001b[39mself\u001b[39;49m\u001b[39m.\u001b[39;49m_auto_legend_data()\n\u001b[0;32m   1017\u001b[0m bbox \u001b[39m=\u001b[39m Bbox\u001b[39m.\u001b[39mfrom_bounds(\u001b[39m0\u001b[39m, \u001b[39m0\u001b[39m, width, height)\n\u001b[0;32m   1018\u001b[0m \u001b[39mif\u001b[39;00m consider \u001b[39mis\u001b[39;00m \u001b[39mNone\u001b[39;00m:\n",
      "File \u001b[1;32mc:\\Users\\pavel\\AppData\\Local\\Programs\\Python\\Python310\\lib\\site-packages\\matplotlib\\legend.py:859\u001b[0m, in \u001b[0;36mLegend._auto_legend_data\u001b[1;34m(self)\u001b[0m\n\u001b[0;32m    857\u001b[0m     \u001b[39melif\u001b[39;00m \u001b[39misinstance\u001b[39m(artist, Collection):\n\u001b[0;32m    858\u001b[0m         _, transOffset, hoffsets, _ \u001b[39m=\u001b[39m artist\u001b[39m.\u001b[39m_prepare_points()\n\u001b[1;32m--> 859\u001b[0m         \u001b[39mfor\u001b[39;00m offset \u001b[39min\u001b[39;00m transOffset\u001b[39m.\u001b[39;49mtransform(hoffsets):\n\u001b[0;32m    860\u001b[0m             offsets\u001b[39m.\u001b[39mappend(offset)\n\u001b[0;32m    861\u001b[0m \u001b[39mreturn\u001b[39;00m bboxes, lines, offsets\n",
      "File \u001b[1;32mc:\\Users\\pavel\\AppData\\Local\\Programs\\Python\\Python310\\lib\\site-packages\\matplotlib\\transforms.py:1503\u001b[0m, in \u001b[0;36mTransform.transform\u001b[1;34m(self, values)\u001b[0m\n\u001b[0;32m   1500\u001b[0m values \u001b[39m=\u001b[39m values\u001b[39m.\u001b[39mreshape((\u001b[39m-\u001b[39m\u001b[39m1\u001b[39m, \u001b[39mself\u001b[39m\u001b[39m.\u001b[39minput_dims))\n\u001b[0;32m   1502\u001b[0m \u001b[39m# Transform the values\u001b[39;00m\n\u001b[1;32m-> 1503\u001b[0m res \u001b[39m=\u001b[39m \u001b[39mself\u001b[39;49m\u001b[39m.\u001b[39;49mtransform_affine(\u001b[39mself\u001b[39;49m\u001b[39m.\u001b[39;49mtransform_non_affine(values))\n\u001b[0;32m   1505\u001b[0m \u001b[39m# Convert the result back to the shape of the input values.\u001b[39;00m\n\u001b[0;32m   1506\u001b[0m \u001b[39mif\u001b[39;00m ndim \u001b[39m==\u001b[39m \u001b[39m0\u001b[39m:\n",
      "File \u001b[1;32mc:\\Users\\pavel\\AppData\\Local\\Programs\\Python\\Python310\\lib\\site-packages\\matplotlib\\transforms.py:2419\u001b[0m, in \u001b[0;36mCompositeGenericTransform.transform_affine\u001b[1;34m(self, points)\u001b[0m\n\u001b[0;32m   2417\u001b[0m \u001b[39mdef\u001b[39;00m \u001b[39mtransform_affine\u001b[39m(\u001b[39mself\u001b[39m, points):\n\u001b[0;32m   2418\u001b[0m     \u001b[39m# docstring inherited\u001b[39;00m\n\u001b[1;32m-> 2419\u001b[0m     \u001b[39mreturn\u001b[39;00m \u001b[39mself\u001b[39;49m\u001b[39m.\u001b[39;49mget_affine()\u001b[39m.\u001b[39mtransform(points)\n",
      "File \u001b[1;32mc:\\Users\\pavel\\AppData\\Local\\Programs\\Python\\Python310\\lib\\site-packages\\matplotlib\\transforms.py:2446\u001b[0m, in \u001b[0;36mCompositeGenericTransform.get_affine\u001b[1;34m(self)\u001b[0m\n\u001b[0;32m   2444\u001b[0m     \u001b[39mreturn\u001b[39;00m \u001b[39mself\u001b[39m\u001b[39m.\u001b[39m_b\u001b[39m.\u001b[39mget_affine()\n\u001b[0;32m   2445\u001b[0m \u001b[39melse\u001b[39;00m:\n\u001b[1;32m-> 2446\u001b[0m     \u001b[39mreturn\u001b[39;00m Affine2D(np\u001b[39m.\u001b[39;49mdot(\u001b[39mself\u001b[39;49m\u001b[39m.\u001b[39;49m_b\u001b[39m.\u001b[39;49mget_affine()\u001b[39m.\u001b[39;49mget_matrix(),\n\u001b[0;32m   2447\u001b[0m                            \u001b[39mself\u001b[39;49m\u001b[39m.\u001b[39;49m_a\u001b[39m.\u001b[39;49mget_affine()\u001b[39m.\u001b[39;49mget_matrix()))\n",
      "File \u001b[1;32m<__array_function__ internals>:180\u001b[0m, in \u001b[0;36mdot\u001b[1;34m(*args, **kwargs)\u001b[0m\n",
      "\u001b[1;31mKeyboardInterrupt\u001b[0m: "
     ]
    },
    {
     "data": {
      "image/png": "[encoded data removed]",
      "text/plain": [
       "<Figure size 720x432 with 1 Axes>"
      ]
     },
     "metadata": {
      "needs_background": "light"
     },
     "output_type": "display_data"
    }
   ],
   "source": [
    "task1.process()"
   ]
  },
  {
   "cell_type": "code",
   "execution_count": null,
   "id": "1d8a0224",
   "metadata": {},
   "outputs": [],
   "source": []
  },
  {
   "cell_type": "code",
   "execution_count": null,
   "id": "cb987352",
   "metadata": {},
   "outputs": [],
   "source": []
  }
 ],
 "metadata": {
  "kernelspec": {
   "display_name": "Python 3 (ipykernel)",
   "language": "python",
   "name": "python3"
  },
  "language_info": {
   "codemirror_mode": {
    "name": "ipython",
    "version": 3
   },
   "file_extension": ".py",
   "mimetype": "text/x-python",
   "name": "python",
   "nbconvert_exporter": "python",
   "pygments_lexer": "ipython3",
   "version": "3.10.4"
  }
 },
 "nbformat": 4,
 "nbformat_minor": 5
}
