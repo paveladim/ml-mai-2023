{
 "cells": [
  {
   "cell_type": "markdown",
   "metadata": {},
   "source": [
    "# Описание задачи\n",
    "Датасет содержит релеавнтную информацию о пациетнах, на основании которой предполагается предсказать возможность возникновения инсульта.\n",
    "\n",
    "## Описание признаков\n",
    "1. id\n",
    "2. Пол: \"Мужчина\", \"Женщина\" или \"Другое\"\n",
    "3. Возраст\n",
    "4. Гипертензия: 0, если у пациента нет гипертензии, 1 - иначе\n",
    "5. Болезни сердца: 0, если не было, 1 - иначе\n",
    "6. Когда либо был_а женат/замужем: \"Нет\" или \"Да\"\n",
    "7. Вид деятельности: \"ребёнок\", \"работает легально\", \"никогда не работал\", \"неофициально\" или \"самозанятый\"\n",
    "8. Где проживает: \"сельская местность\" или \"город\"\n",
    "9. Средний баланс глюкозы в крови\n",
    "10. Индекс массы тела\n",
    "11. Зависимость от курения: \"раньше курил\", \"никогда не курил\", \"курит\" or \"неизвестно\"*\n",
    "12. Приступ: 1, если приступ был, 0 - иначе\n",
    "*\"неизвестно\" в зависимости от курения означает, что данная информация недоступна для конкретного пациента"
   ]
  },
  {
   "cell_type": "markdown",
   "metadata": {},
   "source": [
    "Ссылка на датасет: https://www.kaggle.com/datasets/fedesoriano/stroke-prediction-dataset"
   ]
  },
  {
   "cell_type": "code",
   "execution_count": 83,
   "metadata": {},
   "outputs": [],
   "source": [
    "import os\n",
    "import numpy as np\n",
    "import pandas\n",
    "import matplotlib.pyplot\n",
    "import seaborn"
   ]
  },
  {
   "cell_type": "code",
   "execution_count": 84,
   "metadata": {},
   "outputs": [],
   "source": [
    "import sklearn\n",
    "import sklearn.model_selection\n",
    "import sklearn.neighbors\n",
    "import sklearn.ensemble"
   ]
  },
  {
   "cell_type": "code",
   "execution_count": 85,
   "metadata": {},
   "outputs": [],
   "source": [
    "import warnings\n",
    "warnings.filterwarnings(\"ignore\")"
   ]
  },
  {
   "cell_type": "code",
   "execution_count": 92,
   "metadata": {},
   "outputs": [],
   "source": [
    "class Model:\n",
    "    # Загрузка датасета\n",
    "    def DataLoad(self):\n",
    "        self.path = os.path.abspath(os.path.join(os.getcwd(), '.', 'healthcare-dataset-stroke-data.csv'))\n",
    "        self.dataset = pandas.read_csv(self.path)\n",
    "        self.dataset.columns = self.dataset.columns.str.strip()\n",
    "\n",
    "    # Визуализация\n",
    "    def DataVisual(self):\n",
    "        print(self.dataset.describe())\n",
    "        self.dataset.info()\n",
    "\n",
    "    def fitPredict(self):\n",
    "        x = self.dataset_normalized.drop(['stroke'], axis=1)\n",
    "        y = self.dataset['stroke']\n",
    "        x_train, x_test, y_train, y_test = sklearn.model_selection.train_test_split(x, y, test_size = 0.25, random_state = 666)\n",
    "\n",
    "        from sklearn import linear_model\n",
    "        #regressor = linear_model.Ridge(alpha=.5)\n",
    "        #regressor.fit(x_train, y_train)\n",
    "        model = sklearn.neighbors.KNeighborsClassifier(n_neighbors = 2)\n",
    "        model.fit(x_train.values, y_train.values)\n",
    "\n",
    "        y_pred_train = model.predict(x_train)\n",
    "        y_pred = model.predict(x_test)\n",
    "\n",
    "        from sklearn import metrics \n",
    "        print(\"Train: {}, Test: {}\".format(sklearn.metrics.mean_squared_error(y_train, y_pred_train), sklearn.metrics.mean_squared_error(y_test, y_pred)))\n",
    "        print('Mean Absolute Error:', metrics.mean_absolute_error(y_test, y_pred)) \n",
    "        print('Mean Squared Error:', metrics.mean_squared_error(y_test, y_pred)) \n",
    "        print('Root Mean Squared Error:', np.sqrt(metrics.mean_squared_error(y_test, y_pred)))\n",
    "\n",
    "    # Обработка датасета\n",
    "    def filter(self):\n",
    "        self.dataset.drop('id', axis=1, inplace=True)\n",
    "        self.dataset['bmi'].replace({'N/A': None}, inplace=True)\n",
    "        self.dataset['smoking_status'].replace({'Unknown': None}, inplace=True)\n",
    "        self.dataset['bmi'].fillna(self.dataset['bmi'].median(), inplace=True)\n",
    "\n",
    "        probabilities = self.dataset['smoking_status'].value_counts(normalize=True)\n",
    "        missing = self.dataset['smoking_status'].isnull()\n",
    "        self.dataset.loc[missing, 'smoking_status'] = np.random.choice(probabilities.index, size=len(self.dataset[missing]), p=probabilities.values)\n",
    "\n",
    "        self.dataset['gender'] = np.where(self.dataset['gender'] == 'Female', 1, 0)\n",
    "        self.dataset['ever_married'] = np.where(self.dataset['ever_married'] == 'Yes', 1, 0)\n",
    "        self.dataset['Residence_type'] = np.where(self.dataset['Residence_type'] == 'Urban', 1, 0)\n",
    "\n",
    "        self.dataset = pandas.get_dummies(self.dataset)\n",
    "\n",
    "        rows_to_drop = self.dataset[\n",
    "            (self.dataset['age'] < self.dataset['age'].quantile(0.25) - 1.5 * (self.dataset['age'].quantile(0.75) - self.dataset['age'].quantile(0.25))) \n",
    "            | (self.dataset['age'] > self.dataset['age'].quantile(0.75) + 1.5 * (self.dataset['age'].quantile(0.75) - self.dataset['age'].quantile(0.25)))].index\n",
    "\n",
    "        self.dataset = self.dataset.drop(rows_to_drop)\n",
    "\n",
    "        rows_to_drop = self.dataset[\n",
    "            (self.dataset['hypertension'] < self.dataset['hypertension'].quantile(0.25) - 1.5 * (self.dataset['hypertension'].quantile(0.75) - self.dataset['hypertension'].quantile(0.25))) \n",
    "            | (self.dataset['hypertension'] > self.dataset['hypertension'].quantile(0.75) + 1.5 * (self.dataset['hypertension'].quantile(0.75) - self.dataset['hypertension'].quantile(0.25)))].index\n",
    "\n",
    "        self.dataset = self.dataset.drop(rows_to_drop)\n",
    "\n",
    "        rows_to_drop = self.dataset[\n",
    "            (self.dataset['avg_glucose_level'] < self.dataset['avg_glucose_level'].quantile(0.25) - 1.5 * (self.dataset['avg_glucose_level'].quantile(0.75) - self.dataset['avg_glucose_level'].quantile(0.25))) \n",
    "            | (self.dataset['avg_glucose_level'] > self.dataset['avg_glucose_level'].quantile(0.75) + 1.5 * (self.dataset['avg_glucose_level'].quantile(0.75) - self.dataset['avg_glucose_level'].quantile(0.25)))].index\n",
    "\n",
    "        self.dataset = self.dataset.drop(rows_to_drop)\n",
    "\n",
    "        rows_to_drop = self.dataset[\n",
    "            (self.dataset['bmi'] < self.dataset['bmi'].quantile(0.25) - 1.5 * (self.dataset['bmi'].quantile(0.75) - self.dataset['bmi'].quantile(0.25))) \n",
    "            | (self.dataset['bmi'] > self.dataset['bmi'].quantile(0.75) + 1.5 * (self.dataset['bmi'].quantile(0.75) - self.dataset['bmi'].quantile(0.25)))].index\n",
    "\n",
    "        self.dataset = self.dataset.drop(rows_to_drop)\n",
    "        self.dataset.drop('hypertension', axis=1, inplace=True)\n",
    "\n",
    "        self.dataset_normalized = (self.dataset - self.dataset.mean(axis = 0)) / self.dataset.std(axis = 0)\n",
    "        self.dataset_normalized.describe()"
   ]
  },
  {
   "cell_type": "code",
   "execution_count": 93,
   "metadata": {},
   "outputs": [],
   "source": [
    "m = Model()"
   ]
  },
  {
   "cell_type": "code",
   "execution_count": 94,
   "metadata": {},
   "outputs": [],
   "source": [
    "m.DataLoad()"
   ]
  },
  {
   "cell_type": "code",
   "execution_count": 95,
   "metadata": {},
   "outputs": [],
   "source": [
    "m.filter()"
   ]
  },
  {
   "cell_type": "code",
   "execution_count": 96,
   "metadata": {},
   "outputs": [
    {
     "name": "stdout",
     "output_type": "stream",
     "text": [
      "            gender          age  heart_disease  ever_married  Residence_type  \\\n",
      "count  4038.000000  4038.000000    4038.000000   4038.000000     4038.000000   \n",
      "mean      0.592620    39.258366       0.034423      0.601535        0.508420   \n",
      "std       0.491407    22.301675       0.182336      0.489643        0.499991   \n",
      "min       0.000000     0.080000       0.000000      0.000000        0.000000   \n",
      "25%       0.000000    21.000000       0.000000      0.000000        0.000000   \n",
      "50%       1.000000    40.000000       0.000000      1.000000        1.000000   \n",
      "75%       1.000000    56.000000       0.000000      1.000000        1.000000   \n",
      "max       1.000000    82.000000       1.000000      1.000000        1.000000   \n",
      "\n",
      "       avg_glucose_level          bmi       stroke  work_type_Govt_job  \\\n",
      "count        4038.000000  4038.000000  4038.000000         4038.000000   \n",
      "mean           91.235037    27.449728     0.030956            0.123576   \n",
      "std            22.224006     6.464669     0.173220            0.329138   \n",
      "min            55.120000    10.300000     0.000000            0.000000   \n",
      "25%            75.072500    22.800000     0.000000            0.000000   \n",
      "50%            87.930000    27.300000     0.000000            0.000000   \n",
      "75%           103.760000    31.500000     0.000000            0.000000   \n",
      "max           164.700000    45.100000     1.000000            1.000000   \n",
      "\n",
      "       work_type_Never_worked  work_type_Private  work_type_Self-employed  \\\n",
      "count             4038.000000        4038.000000              4038.000000   \n",
      "mean                 0.005448           0.564141                 0.140168   \n",
      "std                  0.073620           0.495930                 0.347205   \n",
      "min                  0.000000           0.000000                 0.000000   \n",
      "25%                  0.000000           0.000000                 0.000000   \n",
      "50%                  0.000000           1.000000                 0.000000   \n",
      "75%                  0.000000           1.000000                 0.000000   \n",
      "max                  1.000000           1.000000                 1.000000   \n",
      "\n",
      "       work_type_children  smoking_status_formerly smoked  \\\n",
      "count         4038.000000                     4038.000000   \n",
      "mean             0.166667                        0.239970   \n",
      "std              0.372724                        0.427118   \n",
      "min              0.000000                        0.000000   \n",
      "25%              0.000000                        0.000000   \n",
      "50%              0.000000                        0.000000   \n",
      "75%              0.000000                        0.000000   \n",
      "max              1.000000                        1.000000   \n",
      "\n",
      "       smoking_status_never smoked  smoking_status_smokes  \n",
      "count                  4038.000000            4038.000000  \n",
      "mean                      0.534423               0.225607  \n",
      "std                       0.498875               0.418033  \n",
      "min                       0.000000               0.000000  \n",
      "25%                       0.000000               0.000000  \n",
      "50%                       1.000000               0.000000  \n",
      "75%                       1.000000               0.000000  \n",
      "max                       1.000000               1.000000  \n",
      "<class 'pandas.core.frame.DataFrame'>\n",
      "Int64Index: 4038 entries, 2 to 5109\n",
      "Data columns (total 16 columns):\n",
      " #   Column                          Non-Null Count  Dtype  \n",
      "---  ------                          --------------  -----  \n",
      " 0   gender                          4038 non-null   int32  \n",
      " 1   age                             4038 non-null   float64\n",
      " 2   heart_disease                   4038 non-null   int64  \n",
      " 3   ever_married                    4038 non-null   int32  \n",
      " 4   Residence_type                  4038 non-null   int32  \n",
      " 5   avg_glucose_level               4038 non-null   float64\n",
      " 6   bmi                             4038 non-null   float64\n",
      " 7   stroke                          4038 non-null   int64  \n",
      " 8   work_type_Govt_job              4038 non-null   uint8  \n",
      " 9   work_type_Never_worked          4038 non-null   uint8  \n",
      " 10  work_type_Private               4038 non-null   uint8  \n",
      " 11  work_type_Self-employed         4038 non-null   uint8  \n",
      " 12  work_type_children              4038 non-null   uint8  \n",
      " 13  smoking_status_formerly smoked  4038 non-null   uint8  \n",
      " 14  smoking_status_never smoked     4038 non-null   uint8  \n",
      " 15  smoking_status_smokes           4038 non-null   uint8  \n",
      "dtypes: float64(3), int32(3), int64(2), uint8(8)\n",
      "memory usage: 268.1 KB\n"
     ]
    }
   ],
   "source": [
    "m.DataVisual()"
   ]
  },
  {
   "cell_type": "code",
   "execution_count": 97,
   "metadata": {},
   "outputs": [
    {
     "name": "stdout",
     "output_type": "stream",
     "text": [
      "Train: 0.029392338177014532, Test: 0.033663366336633666\n",
      "Mean Absolute Error: 0.033663366336633666\n",
      "Mean Squared Error: 0.033663366336633666\n",
      "Root Mean Squared Error: 0.18347579223601587\n"
     ]
    }
   ],
   "source": [
    "m.fitPredict()"
   ]
  },
  {
   "cell_type": "code",
   "execution_count": null,
   "metadata": {},
   "outputs": [],
   "source": []
  }
 ],
 "metadata": {
  "interpreter": {
   "hash": "b57461de96ab4a1682142568c3e7a9d7dd2e786ff6b2207e8c28f220e6ce6cc1"
  },
  "kernelspec": {
   "display_name": "Python 3 (ipykernel)",
   "language": "python",
   "name": "python3"
  },
  "language_info": {
   "codemirror_mode": {
    "name": "ipython",
    "version": 3
   },
   "file_extension": ".py",
   "mimetype": "text/x-python",
   "name": "python",
   "nbconvert_exporter": "python",
   "pygments_lexer": "ipython3",
   "version": "3.10.4"
  }
 },
 "nbformat": 4,
 "nbformat_minor": 1
}
